{
 "cells": [
  {
   "cell_type": "code",
   "execution_count": 8,
   "id": "0b39b3d6",
   "metadata": {},
   "outputs": [],
   "source": [
    "f = open('day2.txt')\n",
    "games = f.readlines()"
   ]
  },
  {
   "cell_type": "code",
   "execution_count": null,
   "id": "2c466d03",
   "metadata": {},
   "outputs": [],
   "source": []
  },
  {
   "cell_type": "code",
   "execution_count": 13,
   "id": "c2a74c1d",
   "metadata": {},
   "outputs": [
    {
     "name": "stdout",
     "output_type": "stream",
     "text": [
      "1734\n"
     ]
    }
   ],
   "source": [
    "result = 0\n",
    "for game in games:\n",
    "    possible = 0\n",
    "    game = game.translate({ord(c): None for c in ':,;'})\n",
    "    words = game.split()\n",
    "    for i in range(2, len(words)):\n",
    "        if (words[i] == 'red' and int(words[i-1]) > 12) or (words[i] == 'blue' and int(words[i-1]) > 14) or (words[i] == 'green' and int(words[i-1]) > 13):\n",
    "            possible = 1\n",
    "            break\n",
    "    if possible == 0:\n",
    "        result = result + int(words[1])\n",
    "print(result)        "
   ]
  },
  {
   "cell_type": "code",
   "execution_count": 19,
   "id": "c6683b10",
   "metadata": {},
   "outputs": [
    {
     "name": "stdout",
     "output_type": "stream",
     "text": [
      "70387\n"
     ]
    }
   ],
   "source": [
    "result = 0\n",
    "for game in games:\n",
    "    red = 0\n",
    "    blue = 0\n",
    "    green = 0\n",
    "    game = game.translate({ord(c): None for c in ':,;'})\n",
    "    words = game.split()\n",
    "    for i in range(2, len(words)):\n",
    "        if (words[i] == 'red') and red < int(words[i-1]): \n",
    "            red = int(words[i-1])\n",
    "        elif (words[i] == 'blue') and blue < int(words[i-1]):\n",
    "            blue = int(words[i-1])\n",
    "        elif (words[i] == 'green') and green < int(words[i-1]):\n",
    "            green = int(words[i-1])\n",
    "    result = result + red*blue*green\n",
    "print(result)     "
   ]
  },
  {
   "cell_type": "code",
   "execution_count": null,
   "id": "5049a4e1",
   "metadata": {},
   "outputs": [],
   "source": []
  }
 ],
 "metadata": {
  "kernelspec": {
   "display_name": "Python 3 (ipykernel)",
   "language": "python",
   "name": "python3"
  },
  "language_info": {
   "codemirror_mode": {
    "name": "ipython",
    "version": 3
   },
   "file_extension": ".py",
   "mimetype": "text/x-python",
   "name": "python",
   "nbconvert_exporter": "python",
   "pygments_lexer": "ipython3",
   "version": "3.10.12"
  }
 },
 "nbformat": 4,
 "nbformat_minor": 5
}
