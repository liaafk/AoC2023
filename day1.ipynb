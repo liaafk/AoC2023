{
 "cells": [
  {
   "cell_type": "code",
   "execution_count": 102,
   "id": "e5431899",
   "metadata": {},
   "outputs": [],
   "source": [
    "f = open(\"trebuchet.txt\", \"r\")\n",
    "lines = f.readlines()"
   ]
  },
  {
   "cell_type": "code",
   "execution_count": 118,
   "id": "4a854281",
   "metadata": {},
   "outputs": [],
   "source": [
    "num ={\n",
    "    \"one\": '1e',\n",
    "    \"two\": '2o',\n",
    "    \"three\": '3e',\n",
    "    \"four\": '4',\n",
    "    \"five\": '5e',\n",
    "    \"six\": '6',\n",
    "    \"seven\": '7n',\n",
    "    \"eight\": '8t',\n",
    "    \"nine\": '9e',\n",
    "}"
   ]
  },
  {
   "cell_type": "code",
   "execution_count": 124,
   "id": "708fa7ee",
   "metadata": {},
   "outputs": [],
   "source": [
    "new_lines = []\n",
    "for s in lines:\n",
    "    valid_substrings = [k for k in num.keys() if s.find(k) != -1]\n",
    "    for i in range(0,10):\n",
    "        if not valid_substrings:\n",
    "            new_lines.append(s)\n",
    "            break\n",
    "        first_substring = min(valid_substrings, key=s.find)\n",
    "        s = s.replace(first_substring, num.get(first_substring))\n",
    "        valid_substrings.remove(first_substring)"
   ]
  },
  {
   "cell_type": "code",
   "execution_count": 125,
   "id": "8c4225e1",
   "metadata": {},
   "outputs": [],
   "source": [
    "digits = [''.join(c for c in my_string if c.isdigit()) for my_string in new_lines]"
   ]
  },
  {
   "cell_type": "code",
   "execution_count": 126,
   "id": "595e39b0",
   "metadata": {},
   "outputs": [
    {
     "name": "stdout",
     "output_type": "stream",
     "text": [
      "54203\n"
     ]
    }
   ],
   "source": [
    "result = 0\n",
    "for d in digits:\n",
    "    if 0 < len(d) < 2:\n",
    "        d = d+d\n",
    "    elif len(d) > 2:\n",
    "        d = d[0]+d[-1]\n",
    "    elif len(d) == 0:\n",
    "        d = 0\n",
    "    result = result + int(d)\n",
    "print(result)"
   ]
  }
 ],
 "metadata": {
  "kernelspec": {
   "display_name": "Python 3 (ipykernel)",
   "language": "python",
   "name": "python3"
  },
  "language_info": {
   "codemirror_mode": {
    "name": "ipython",
    "version": 3
   },
   "file_extension": ".py",
   "mimetype": "text/x-python",
   "name": "python",
   "nbconvert_exporter": "python",
   "pygments_lexer": "ipython3",
   "version": "3.10.12"
  }
 },
 "nbformat": 4,
 "nbformat_minor": 5
}
